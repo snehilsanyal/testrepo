{
  "nbformat": 4,
  "nbformat_minor": 0,
  "metadata": {
    "colab": {
      "name": "DeepSpeech2.ipynb",
      "provenance": [],
      "authorship_tag": "ABX9TyN21nzZqVoDY3OI441K87RA",
      "include_colab_link": true
    },
    "kernelspec": {
      "name": "python3",
      "display_name": "Python 3"
    },
    "accelerator": "GPU"
  },
  "cells": [
    {
      "cell_type": "markdown",
      "metadata": {
        "id": "view-in-github",
        "colab_type": "text"
      },
      "source": [
        "<a href=\"https://colab.research.google.com/github/snehilsanyal/testrepo/blob/readme-edits/DeepSpeech2.ipynb\" target=\"_parent\"><img src=\"https://colab.research.google.com/assets/colab-badge.svg\" alt=\"Open In Colab\"/></a>"
      ]
    },
    {
      "cell_type": "markdown",
      "metadata": {
        "id": "TTV_4acVYu8l",
        "colab_type": "text"
      },
      "source": [
        "# Install Pytorch 1.0.0 and Warp-CTC"
      ]
    },
    {
      "cell_type": "code",
      "metadata": {
        "colab_type": "code",
        "id": "eNMni-bnz6Tq",
        "outputId": "c4308cd0-9bed-489b-c047-7fad500d06b1",
        "colab": {
          "base_uri": "https://localhost:8080/",
          "height": 907
        }
      },
      "source": [
        "# Required by Sean Naren's implementation\n",
        "!pip install -q torch==1.0.0 torchvision\n",
        "!git clone https://github.com/SeanNaren/warp-ctc.git\n",
        "%cd warp-ctc \n",
        "!mkdir build\n",
        "%cd build\n",
        "!cmake .. \n",
        "!make"
      ],
      "execution_count": 1,
      "outputs": [
        {
          "output_type": "stream",
          "text": [
            "\u001b[K     |████████████████████████████████| 591.8MB 30kB/s \n",
            "\u001b[31mERROR: torchvision 0.5.0 has requirement torch==1.4.0, but you'll have torch 1.0.0 which is incompatible.\u001b[0m\n",
            "\u001b[?25hCloning into 'warp-ctc'...\n",
            "remote: Enumerating objects: 791, done.\u001b[K\n",
            "remote: Total 791 (delta 0), reused 0 (delta 0), pack-reused 791\u001b[K\n",
            "Receiving objects: 100% (791/791), 382.19 KiB | 685.00 KiB/s, done.\n",
            "Resolving deltas: 100% (401/401), done.\n",
            "/content/warp-ctc\n",
            "/content/warp-ctc/build\n",
            "-- The C compiler identification is GNU 7.4.0\n",
            "-- The CXX compiler identification is GNU 7.4.0\n",
            "-- Check for working C compiler: /usr/bin/cc\n",
            "-- Check for working C compiler: /usr/bin/cc -- works\n",
            "-- Detecting C compiler ABI info\n",
            "-- Detecting C compiler ABI info - done\n",
            "-- Detecting C compile features\n",
            "-- Detecting C compile features - done\n",
            "-- Check for working CXX compiler: /usr/bin/c++\n",
            "-- Check for working CXX compiler: /usr/bin/c++ -- works\n",
            "-- Detecting CXX compiler ABI info\n",
            "-- Detecting CXX compiler ABI info - done\n",
            "-- Detecting CXX compile features\n",
            "-- Detecting CXX compile features - done\n",
            "-- Looking for pthread.h\n",
            "-- Looking for pthread.h - found\n",
            "-- Looking for pthread_create\n",
            "-- Looking for pthread_create - not found\n",
            "-- Looking for pthread_create in pthreads\n",
            "-- Looking for pthread_create in pthreads - not found\n",
            "-- Looking for pthread_create in pthread\n",
            "-- Looking for pthread_create in pthread - found\n",
            "-- Found Threads: TRUE  \n",
            "-- Found CUDA: /usr/local/cuda (found suitable version \"10.0\", minimum required is \"6.5\") \n",
            "-- cuda found TRUE\n",
            "-- Building shared library with GPU support\n",
            "-- Configuring done\n",
            "-- Generating done\n",
            "-- Build files have been written to: /content/warp-ctc/build\n",
            "[ 11%] \u001b[34m\u001b[1mBuilding NVCC (Device) object CMakeFiles/warpctc.dir/src/warpctc_generated_reduce.cu.o\u001b[0m\n",
            "[ 22%] \u001b[34m\u001b[1mBuilding NVCC (Device) object CMakeFiles/warpctc.dir/src/warpctc_generated_ctc_entrypoint.cu.o\u001b[0m\n",
            "\u001b[35m\u001b[1mScanning dependencies of target warpctc\u001b[0m\n",
            "[ 33%] \u001b[32m\u001b[1mLinking CXX shared library libwarpctc.so\u001b[0m\n",
            "[ 33%] Built target warpctc\n",
            "[ 44%] \u001b[34m\u001b[1mBuilding NVCC (Device) object CMakeFiles/test_gpu.dir/tests/test_gpu_generated_test_gpu.cu.o\u001b[0m\n",
            "\u001b[35m\u001b[1mScanning dependencies of target test_gpu\u001b[0m\n",
            "[ 55%] \u001b[32mBuilding CXX object CMakeFiles/test_gpu.dir/tests/random.cpp.o\u001b[0m\n",
            "[ 66%] \u001b[32m\u001b[1mLinking CXX executable test_gpu\u001b[0m\n",
            "[ 66%] Built target test_gpu\n",
            "\u001b[35m\u001b[1mScanning dependencies of target test_cpu\u001b[0m\n",
            "[ 77%] \u001b[32mBuilding CXX object CMakeFiles/test_cpu.dir/tests/test_cpu.cpp.o\u001b[0m\n",
            "[ 88%] \u001b[32mBuilding CXX object CMakeFiles/test_cpu.dir/tests/random.cpp.o\u001b[0m\n",
            "[100%] \u001b[32m\u001b[1mLinking CXX executable test_cpu\u001b[0m\n",
            "[100%] Built target test_cpu\n"
          ],
          "name": "stdout"
        }
      ]
    },
    {
      "cell_type": "code",
      "metadata": {
        "id": "fGxM7KHCNKl4",
        "colab_type": "code",
        "colab": {
          "base_uri": "https://localhost:8080/",
          "height": 356
        },
        "outputId": "ec12b384-0445-488d-f17a-761c4d6c27fe"
      },
      "source": [
        "!export CUDA_HOME=\"/usr/local/cuda\"\n",
        "%cd ../pytorch_binding/\n",
        "!python setup.py install"
      ],
      "execution_count": 4,
      "outputs": [
        {
          "output_type": "stream",
          "text": [
            "/content/warp-ctc/pytorch_binding\n",
            "running install\n",
            "running bdist_egg\n",
            "running egg_info\n",
            "writing warpctc_pytorch.egg-info/PKG-INFO\n",
            "writing dependency_links to warpctc_pytorch.egg-info/dependency_links.txt\n",
            "writing top-level names to warpctc_pytorch.egg-info/top_level.txt\n",
            "writing manifest file 'warpctc_pytorch.egg-info/SOURCES.txt'\n",
            "installing library code to build/bdist.linux-x86_64/egg\n",
            "running install_lib\n",
            "running build_py\n",
            "running build_ext\n",
            "building 'warpctc_pytorch._warp_ctc' extension\n",
            "x86_64-linux-gnu-gcc -pthread -DNDEBUG -g -fwrapv -O2 -Wall -g -fstack-protector-strong -Wformat -Werror=format-security -Wdate-time -D_FORTIFY_SOURCE=2 -fPIC -I/content/warp-ctc/include -I/usr/local/lib/python3.6/dist-packages/torch/lib/include -I/usr/local/lib/python3.6/dist-packages/torch/lib/include/torch/csrc/api/include -I/usr/local/lib/python3.6/dist-packages/torch/lib/include/TH -I/usr/local/lib/python3.6/dist-packages/torch/lib/include/THC -I/usr/local/cuda/include -I/usr/include/python3.6m -c src/binding.cpp -o build/temp.linux-x86_64-3.6/src/binding.o -std=c++11 -fPIC -DWARPCTC_ENABLE_GPU -DTORCH_API_INCLUDE_EXTENSION_H -DTORCH_EXTENSION_NAME=_warp_ctc -D_GLIBCXX_USE_CXX11_ABI=0\n",
            "\u001b[01m\u001b[Ksrc/binding.cpp:10:11:\u001b[m\u001b[K \u001b[01;31m\u001b[Kfatal error: \u001b[m\u001b[Kc10/cuda/CUDAGuard.h: No such file or directory\n",
            "  #include \u001b[01;31m\u001b[K<c10/cuda/CUDAGuard.h>\u001b[m\u001b[K\n",
            "           \u001b[01;31m\u001b[K^~~~~~~~~~~~~~~~~~~~~~\u001b[m\u001b[K\n",
            "compilation terminated.\n",
            "error: command 'x86_64-linux-gnu-gcc' failed with exit status 1\n"
          ],
          "name": "stdout"
        }
      ]
    },
    {
      "cell_type": "markdown",
      "metadata": {
        "id": "snvW3Fu3YnEr",
        "colab_type": "text"
      },
      "source": [
        "# Install NVIDIA Apex"
      ]
    },
    {
      "cell_type": "code",
      "metadata": {
        "id": "qDYcfYLE5PYZ",
        "colab_type": "code",
        "outputId": "3afda939-22e3-40ee-86b3-70eaf630741c",
        "colab": {
          "base_uri": "https://localhost:8080/",
          "height": 558
        }
      },
      "source": [
        "%cd /content\n",
        "!git clone --recursive https://github.com/NVIDIA/apex.git\n",
        "%cd apex\n",
        "!pip install ."
      ],
      "execution_count": 5,
      "outputs": [
        {
          "output_type": "stream",
          "text": [
            "/content\n",
            "Cloning into 'apex'...\n",
            "remote: Enumerating objects: 239, done.\u001b[K\n",
            "remote: Counting objects: 100% (239/239), done.\u001b[K\n",
            "remote: Compressing objects: 100% (128/128), done.\u001b[K\n",
            "remote: Total 6074 (delta 167), reused 162 (delta 111), pack-reused 5835\u001b[K\n",
            "Receiving objects: 100% (6074/6074), 13.63 MiB | 8.54 MiB/s, done.\n",
            "Resolving deltas: 100% (3959/3959), done.\n",
            "Submodule 'apex/contrib/csrc/multihead_attn/cutlass' (https://github.com/NVIDIA/cutlass.git) registered for path 'apex/contrib/csrc/multihead_attn/cutlass'\n",
            "Cloning into '/content/apex/apex/contrib/csrc/multihead_attn/cutlass'...\n",
            "remote: Enumerating objects: 9260, done.        \n",
            "remote: Total 9260 (delta 0), reused 0 (delta 0), pack-reused 9260        \n",
            "Receiving objects: 100% (9260/9260), 12.48 MiB | 6.22 MiB/s, done.\n",
            "Resolving deltas: 100% (6433/6433), done.\n",
            "Submodule path 'apex/contrib/csrc/multihead_attn/cutlass': checked out 'ed2ed4d667ce95e1371bd62db32b6a114e774336'\n",
            "Submodule 'tools/external/googletest' (https://github.com/google/googletest.git) registered for path 'apex/contrib/csrc/multihead_attn/cutlass/tools/external/googletest'\n",
            "Cloning into '/content/apex/apex/contrib/csrc/multihead_attn/cutlass/tools/external/googletest'...\n",
            "remote: Enumerating objects: 19843, done.        \n",
            "remote: Total 19843 (delta 0), reused 0 (delta 0), pack-reused 19843        \n",
            "Receiving objects: 100% (19843/19843), 7.23 MiB | 6.37 MiB/s, done.\n",
            "Resolving deltas: 100% (14668/14668), done.\n",
            "Submodule path 'apex/contrib/csrc/multihead_attn/cutlass/tools/external/googletest': checked out '9077ec7efe5b652468ab051e93c67589d5cb8f85'\n",
            "/content/apex\n",
            "Processing /content/apex\n",
            "Building wheels for collected packages: apex\n",
            "  Building wheel for apex (setup.py) ... \u001b[?25l\u001b[?25hdone\n",
            "  Created wheel for apex: filename=apex-0.1-cp36-none-any.whl size=153090 sha256=e71d720abdda3da72188c0079cd446e9167ad4e4ddc0f8d7968fedd6743ed50e\n",
            "  Stored in directory: /tmp/pip-ephem-wheel-cache-9hmdj6li/wheels/b1/3a/aa/d84906eaab780ae580c7a5686a33bf2820d8590ac3b60d5967\n",
            "Successfully built apex\n",
            "Installing collected packages: apex\n",
            "Successfully installed apex-0.1\n"
          ],
          "name": "stdout"
        }
      ]
    },
    {
      "cell_type": "markdown",
      "metadata": {
        "id": "sV8d4M8eYh96",
        "colab_type": "text"
      },
      "source": [
        "# CTCDecode"
      ]
    },
    {
      "cell_type": "code",
      "metadata": {
        "colab_type": "code",
        "outputId": "12ccc09c-b359-47e0-daf9-33367d6d77a1",
        "id": "sis54gbWN5Jp",
        "colab": {
          "base_uri": "https://localhost:8080/",
          "height": 151
        }
      },
      "source": [
        "%cd /content\n",
        "!sudo pip install --upgrade pip setuptools wheel\n",
        "!git clone --recursive https://github.com/parlance/ctcdecode.git\n",
        "!pwd\n",
        "#%cd ctcdecode\n",
        "#!pip install .\n",
        "!cd ctcdecode\n",
        "!pip install ctcdecode\n"
      ],
      "execution_count": 9,
      "outputs": [
        {
          "output_type": "stream",
          "text": [
            "/content\n",
            "Requirement already up-to-date: pip in /usr/local/lib/python3.6/dist-packages (20.0.2)\n",
            "Requirement already up-to-date: setuptools in /usr/local/lib/python3.6/dist-packages (46.0.0)\n",
            "Requirement already up-to-date: wheel in /usr/local/lib/python3.6/dist-packages (0.34.2)\n",
            "fatal: destination path 'ctcdecode' already exists and is not an empty directory.\n",
            "/content\n",
            "\u001b[31mERROR: Could not find a version that satisfies the requirement ctcdecode (from versions: none)\u001b[0m\n",
            "\u001b[31mERROR: No matching distribution found for ctcdecode\u001b[0m\n"
          ],
          "name": "stdout"
        }
      ]
    },
    {
      "cell_type": "markdown",
      "metadata": {
        "id": "B5i3bdC9Y-fe",
        "colab_type": "text"
      },
      "source": [
        "# Clone DeepSpeech2"
      ]
    },
    {
      "cell_type": "code",
      "metadata": {
        "id": "Zd2P8BXT5PRF",
        "colab_type": "code",
        "outputId": "914ee7c3-7d03-484a-dceb-11e03a893c26",
        "colab": {
          "base_uri": "https://localhost:8080/",
          "height": 1000
        }
      },
      "source": [
        "%cd /content\n",
        "!git clone https://github.com/SeanNaren/deepspeech.pytorch\n",
        "%cd deepspeech.pytorch/\n",
        "!pip install -r requirements.txt"
      ],
      "execution_count": 11,
      "outputs": [
        {
          "output_type": "stream",
          "text": [
            "/content\n",
            "Cloning into 'deepspeech.pytorch'...\n",
            "remote: Enumerating objects: 1344, done.\u001b[K\n",
            "remote: Total 1344 (delta 0), reused 0 (delta 0), pack-reused 1344\u001b[K\n",
            "Receiving objects: 100% (1344/1344), 443.62 KiB | 600.00 KiB/s, done.\n",
            "Resolving deltas: 100% (846/846), done.\n",
            "/content/deepspeech.pytorch\n",
            "Collecting python-levenshtein\n",
            "  Downloading python-Levenshtein-0.12.0.tar.gz (48 kB)\n",
            "\u001b[K     |████████████████████████████████| 48 kB 1.6 MB/s \n",
            "\u001b[?25hRequirement already satisfied: torch in /usr/local/lib/python3.6/dist-packages (from -r requirements.txt (line 2)) (1.0.0)\n",
            "Collecting visdom\n",
            "  Downloading visdom-0.1.8.9.tar.gz (676 kB)\n",
            "\u001b[K     |████████████████████████████████| 676 kB 7.0 MB/s \n",
            "\u001b[?25hCollecting wget\n",
            "  Downloading wget-3.2.zip (10 kB)\n",
            "Requirement already satisfied: librosa in /usr/local/lib/python3.6/dist-packages (from -r requirements.txt (line 5)) (0.6.3)\n",
            "Requirement already satisfied: tqdm in /usr/local/lib/python3.6/dist-packages (from -r requirements.txt (line 6)) (4.28.1)\n",
            "Requirement already satisfied: setuptools in /usr/local/lib/python3.6/dist-packages (from python-levenshtein->-r requirements.txt (line 1)) (46.0.0)\n",
            "Requirement already satisfied: numpy>=1.8 in /usr/local/lib/python3.6/dist-packages (from visdom->-r requirements.txt (line 3)) (1.17.5)\n",
            "Requirement already satisfied: scipy in /usr/local/lib/python3.6/dist-packages (from visdom->-r requirements.txt (line 3)) (1.4.1)\n",
            "Requirement already satisfied: requests in /usr/local/lib/python3.6/dist-packages (from visdom->-r requirements.txt (line 3)) (2.21.0)\n",
            "Requirement already satisfied: tornado in /usr/local/lib/python3.6/dist-packages (from visdom->-r requirements.txt (line 3)) (4.5.3)\n",
            "Requirement already satisfied: pyzmq in /usr/local/lib/python3.6/dist-packages (from visdom->-r requirements.txt (line 3)) (17.0.0)\n",
            "Requirement already satisfied: six in /usr/local/lib/python3.6/dist-packages (from visdom->-r requirements.txt (line 3)) (1.12.0)\n",
            "Collecting jsonpatch\n",
            "  Downloading jsonpatch-1.25-py2.py3-none-any.whl (11 kB)\n",
            "Collecting torchfile\n",
            "  Downloading torchfile-0.1.0.tar.gz (5.2 kB)\n",
            "Collecting websocket-client\n",
            "  Downloading websocket_client-0.57.0-py2.py3-none-any.whl (200 kB)\n",
            "\u001b[K     |████████████████████████████████| 200 kB 26.7 MB/s \n",
            "\u001b[?25hRequirement already satisfied: pillow in /usr/local/lib/python3.6/dist-packages (from visdom->-r requirements.txt (line 3)) (6.2.2)\n",
            "Requirement already satisfied: decorator>=3.0.0 in /usr/local/lib/python3.6/dist-packages (from librosa->-r requirements.txt (line 5)) (4.4.1)\n",
            "Requirement already satisfied: scikit-learn!=0.19.0,>=0.14.0 in /usr/local/lib/python3.6/dist-packages (from librosa->-r requirements.txt (line 5)) (0.22.1)\n",
            "Requirement already satisfied: audioread>=2.0.0 in /usr/local/lib/python3.6/dist-packages (from librosa->-r requirements.txt (line 5)) (2.1.8)\n",
            "Requirement already satisfied: resampy>=0.2.0 in /usr/local/lib/python3.6/dist-packages (from librosa->-r requirements.txt (line 5)) (0.2.2)\n",
            "Requirement already satisfied: numba>=0.38.0 in /usr/local/lib/python3.6/dist-packages (from librosa->-r requirements.txt (line 5)) (0.47.0)\n",
            "Requirement already satisfied: joblib>=0.12 in /usr/local/lib/python3.6/dist-packages (from librosa->-r requirements.txt (line 5)) (0.14.1)\n",
            "Requirement already satisfied: certifi>=2017.4.17 in /usr/local/lib/python3.6/dist-packages (from requests->visdom->-r requirements.txt (line 3)) (2019.11.28)\n",
            "Requirement already satisfied: urllib3<1.25,>=1.21.1 in /usr/local/lib/python3.6/dist-packages (from requests->visdom->-r requirements.txt (line 3)) (1.24.3)\n",
            "Requirement already satisfied: idna<2.9,>=2.5 in /usr/local/lib/python3.6/dist-packages (from requests->visdom->-r requirements.txt (line 3)) (2.8)\n",
            "Requirement already satisfied: chardet<3.1.0,>=3.0.2 in /usr/local/lib/python3.6/dist-packages (from requests->visdom->-r requirements.txt (line 3)) (3.0.4)\n",
            "Collecting jsonpointer>=1.9\n",
            "  Downloading jsonpointer-2.0-py2.py3-none-any.whl (7.6 kB)\n",
            "Requirement already satisfied: llvmlite>=0.31.0dev0 in /usr/local/lib/python3.6/dist-packages (from numba>=0.38.0->librosa->-r requirements.txt (line 5)) (0.31.0)\n",
            "Building wheels for collected packages: python-levenshtein, visdom, wget, torchfile\n",
            "  Building wheel for python-levenshtein (setup.py) ... \u001b[?25l\u001b[?25hdone\n",
            "  Created wheel for python-levenshtein: filename=python_Levenshtein-0.12.0-cp36-cp36m-linux_x86_64.whl size=144675 sha256=ecccaa8466e427f6b92ec60e0391cd99e373ed69264848de5f753be67bff3dda\n",
            "  Stored in directory: /root/.cache/pip/wheels/79/c3/a1/cbdd8b154234b3e571d121b65be7d53354cc77e223e8f271c8\n",
            "  Building wheel for visdom (setup.py) ... \u001b[?25l\u001b[?25hdone\n",
            "  Created wheel for visdom: filename=visdom-0.1.8.9-py3-none-any.whl size=655249 sha256=8e2e8bf00d981bc5550289b3005590407864e8dddb6c0b34379efb54fc1b4c3b\n",
            "  Stored in directory: /root/.cache/pip/wheels/2d/cd/fb/005445070865d4e45365b2946ee88085a7392370f152cf371c\n",
            "  Building wheel for wget (setup.py) ... \u001b[?25l\u001b[?25hdone\n",
            "  Created wheel for wget: filename=wget-3.2-py3-none-any.whl size=9681 sha256=5128208e17dc5cd8b39fdc92f490e5ebf7e514d29fdbdb489389963f02c08df2\n",
            "  Stored in directory: /root/.cache/pip/wheels/90/1d/93/c863ee832230df5cfc25ca497b3e88e0ee3ea9e44adc46ac62\n",
            "  Building wheel for torchfile (setup.py) ... \u001b[?25l\u001b[?25hdone\n",
            "  Created wheel for torchfile: filename=torchfile-0.1.0-py3-none-any.whl size=5711 sha256=1ab3516caee9353ef5624b26d911fc6640acaeecca14d03aa5b94168e9240e95\n",
            "  Stored in directory: /root/.cache/pip/wheels/55/79/ec/084a3a2e348d72852cc0c13c559c923c13ca54db86e699b681\n",
            "Successfully built python-levenshtein visdom wget torchfile\n",
            "Installing collected packages: python-levenshtein, jsonpointer, jsonpatch, torchfile, websocket-client, visdom, wget\n",
            "Successfully installed jsonpatch-1.25 jsonpointer-2.0 python-levenshtein-0.12.0 torchfile-0.1.0 visdom-0.1.8.9 websocket-client-0.57.0 wget-3.2\n"
          ],
          "name": "stdout"
        }
      ]
    },
    {
      "cell_type": "markdown",
      "metadata": {
        "id": "AYPRu9FFZVJh",
        "colab_type": "text"
      },
      "source": [
        "# Dataset Training"
      ]
    },
    {
      "cell_type": "code",
      "metadata": {
        "id": "GGmagtd95PEG",
        "colab_type": "code",
        "colab": {}
      },
      "source": [
        ""
      ],
      "execution_count": 0,
      "outputs": []
    },
    {
      "cell_type": "code",
      "metadata": {
        "id": "B26oMzfS5O0t",
        "colab_type": "code",
        "colab": {}
      },
      "source": [
        ""
      ],
      "execution_count": 0,
      "outputs": []
    },
    {
      "cell_type": "code",
      "metadata": {
        "id": "p1r7SKkN5Oj6",
        "colab_type": "code",
        "colab": {}
      },
      "source": [
        ""
      ],
      "execution_count": 0,
      "outputs": []
    }
  ]
}
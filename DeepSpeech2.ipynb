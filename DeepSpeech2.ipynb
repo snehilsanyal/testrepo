{
  "nbformat": 4,
  "nbformat_minor": 0,
  "metadata": {
    "colab": {
      "name": "DeepSpeech2.ipynb",
      "provenance": [],
      "authorship_tag": "ABX9TyOSUxkwr04gqX/3/rIJpxvl",
      "include_colab_link": true
    },
    "kernelspec": {
      "name": "python3",
      "display_name": "Python 3"
    }
  },
  "cells": [
    {
      "cell_type": "markdown",
      "metadata": {
        "id": "view-in-github",
        "colab_type": "text"
      },
      "source": [
        "<a href=\"https://colab.research.google.com/github/snehilsanyal/testrepo/blob/readme-edits/DeepSpeech2.ipynb\" target=\"_parent\"><img src=\"https://colab.research.google.com/assets/colab-badge.svg\" alt=\"Open In Colab\"/></a>"
      ]
    },
    {
      "cell_type": "code",
      "metadata": {
        "colab_type": "code",
        "id": "eNMni-bnz6Tq",
        "outputId": "64ed6157-48ea-43fb-e7e1-4fd7d835b8b7",
        "colab": {
          "base_uri": "https://localhost:8080/",
          "height": 884
        }
      },
      "source": [
        "!git clone https://github.com/SeanNaren/warp-ctc.git\n",
        "%cd warp-ctc \n",
        "!mkdir build\n",
        "%cd build\n",
        "!cmake .. \n",
        "!make"
      ],
      "execution_count": 2,
      "outputs": [
        {
          "output_type": "stream",
          "text": [
            "Cloning into 'warp-ctc'...\n",
            "remote: Enumerating objects: 791, done.\u001b[K\n",
            "Receiving objects:   0% (1/791)   \rReceiving objects:   1% (8/791)   \rReceiving objects:   2% (16/791)   \rReceiving objects:   3% (24/791)   \rReceiving objects:   4% (32/791)   \rReceiving objects:   5% (40/791)   \rReceiving objects:   6% (48/791)   \rReceiving objects:   7% (56/791)   \rReceiving objects:   8% (64/791)   \rReceiving objects:   9% (72/791)   \rReceiving objects:  10% (80/791)   \rReceiving objects:  11% (88/791)   \rReceiving objects:  12% (95/791)   \rReceiving objects:  13% (103/791)   \rReceiving objects:  14% (111/791)   \rReceiving objects:  15% (119/791)   \rReceiving objects:  16% (127/791)   \rReceiving objects:  17% (135/791)   \rReceiving objects:  18% (143/791)   \rReceiving objects:  19% (151/791)   \rReceiving objects:  20% (159/791)   \rReceiving objects:  21% (167/791)   \rReceiving objects:  22% (175/791)   \rReceiving objects:  23% (182/791)   \rReceiving objects:  24% (190/791)   \rReceiving objects:  25% (198/791)   \rReceiving objects:  26% (206/791)   \rReceiving objects:  27% (214/791)   \rReceiving objects:  28% (222/791)   \rReceiving objects:  29% (230/791)   \rReceiving objects:  30% (238/791)   \rReceiving objects:  31% (246/791)   \rReceiving objects:  32% (254/791)   \rReceiving objects:  33% (262/791)   \rReceiving objects:  34% (269/791)   \rReceiving objects:  35% (277/791)   \rReceiving objects:  36% (285/791)   \rReceiving objects:  37% (293/791)   \rReceiving objects:  38% (301/791)   \rReceiving objects:  39% (309/791)   \rReceiving objects:  40% (317/791)   \rReceiving objects:  41% (325/791)   \rReceiving objects:  42% (333/791)   \rReceiving objects:  43% (341/791)   \rReceiving objects:  44% (349/791)   \rReceiving objects:  45% (356/791)   \rReceiving objects:  46% (364/791)   \rremote: Total 791 (delta 0), reused 0 (delta 0), pack-reused 791\u001b[K\n",
            "Receiving objects:  47% (372/791)   \rReceiving objects:  48% (380/791)   \rReceiving objects:  49% (388/791)   \rReceiving objects:  50% (396/791)   \rReceiving objects:  51% (404/791)   \rReceiving objects:  52% (412/791)   \rReceiving objects:  53% (420/791)   \rReceiving objects:  54% (428/791)   \rReceiving objects:  55% (436/791)   \rReceiving objects:  56% (443/791)   \rReceiving objects:  57% (451/791)   \rReceiving objects:  58% (459/791)   \rReceiving objects:  59% (467/791)   \rReceiving objects:  60% (475/791)   \rReceiving objects:  61% (483/791)   \rReceiving objects:  62% (491/791)   \rReceiving objects:  63% (499/791)   \rReceiving objects:  64% (507/791)   \rReceiving objects:  65% (515/791)   \rReceiving objects:  66% (523/791)   \rReceiving objects:  67% (530/791)   \rReceiving objects:  68% (538/791)   \rReceiving objects:  69% (546/791)   \rReceiving objects:  70% (554/791)   \rReceiving objects:  71% (562/791)   \rReceiving objects:  72% (570/791)   \rReceiving objects:  73% (578/791)   \rReceiving objects:  74% (586/791)   \rReceiving objects:  75% (594/791)   \rReceiving objects:  76% (602/791)   \rReceiving objects:  77% (610/791)   \rReceiving objects:  78% (617/791)   \rReceiving objects:  79% (625/791)   \rReceiving objects:  80% (633/791)   \rReceiving objects:  81% (641/791)   \rReceiving objects:  82% (649/791)   \rReceiving objects:  83% (657/791)   \rReceiving objects:  84% (665/791)   \rReceiving objects:  85% (673/791)   \rReceiving objects:  86% (681/791)   \rReceiving objects:  87% (689/791)   \rReceiving objects:  88% (697/791)   \rReceiving objects:  89% (704/791)   \rReceiving objects:  90% (712/791)   \rReceiving objects:  91% (720/791)   \rReceiving objects:  92% (728/791)   \rReceiving objects:  93% (736/791)   \rReceiving objects:  94% (744/791)   \rReceiving objects:  95% (752/791)   \rReceiving objects:  96% (760/791)   \rReceiving objects:  97% (768/791)   \rReceiving objects:  98% (776/791)   \rReceiving objects:  99% (784/791)   \rReceiving objects: 100% (791/791)   \rReceiving objects: 100% (791/791), 382.19 KiB | 8.31 MiB/s, done.\n",
            "Resolving deltas:   0% (0/401)   \rResolving deltas:   1% (7/401)   \rResolving deltas:   6% (28/401)   \rResolving deltas:   8% (36/401)   \rResolving deltas:   9% (37/401)   \rResolving deltas:  11% (45/401)   \rResolving deltas:  12% (52/401)   \rResolving deltas:  13% (53/401)   \rResolving deltas:  14% (57/401)   \rResolving deltas:  15% (61/401)   \rResolving deltas:  16% (67/401)   \rResolving deltas:  17% (72/401)   \rResolving deltas:  18% (76/401)   \rResolving deltas:  19% (78/401)   \rResolving deltas:  20% (84/401)   \rResolving deltas:  22% (89/401)   \rResolving deltas:  25% (101/401)   \rResolving deltas:  28% (113/401)   \rResolving deltas:  31% (126/401)   \rResolving deltas:  32% (129/401)   \rResolving deltas:  35% (144/401)   \rResolving deltas:  38% (156/401)   \rResolving deltas:  39% (158/401)   \rResolving deltas:  40% (161/401)   \rResolving deltas:  41% (165/401)   \rResolving deltas:  42% (171/401)   \rResolving deltas:  43% (173/401)   \rResolving deltas:  47% (189/401)   \rResolving deltas:  49% (198/401)   \rResolving deltas:  51% (206/401)   \rResolving deltas:  52% (211/401)   \rResolving deltas:  55% (223/401)   \rResolving deltas:  56% (225/401)   \rResolving deltas:  57% (229/401)   \rResolving deltas:  58% (233/401)   \rResolving deltas:  67% (271/401)   \rResolving deltas:  71% (287/401)   \rResolving deltas:  72% (292/401)   \rResolving deltas:  73% (294/401)   \rResolving deltas:  75% (301/401)   \rResolving deltas:  77% (309/401)   \rResolving deltas:  78% (313/401)   \rResolving deltas:  81% (325/401)   \rResolving deltas:  82% (332/401)   \rResolving deltas:  83% (334/401)   \rResolving deltas:  85% (342/401)   \rResolving deltas:  86% (345/401)   \rResolving deltas:  87% (351/401)   \rResolving deltas:  88% (353/401)   \rResolving deltas:  91% (368/401)   \rResolving deltas:  94% (377/401)   \rResolving deltas:  98% (396/401)   \rResolving deltas:  99% (397/401)   \rResolving deltas: 100% (401/401)   \rResolving deltas: 100% (401/401), done.\n",
            "/content/warp-ctc/warp-ctc\n",
            "/content/warp-ctc/warp-ctc/build\n",
            "-- The C compiler identification is GNU 7.4.0\n",
            "-- The CXX compiler identification is GNU 7.4.0\n",
            "-- Check for working C compiler: /usr/bin/cc\n",
            "-- Check for working C compiler: /usr/bin/cc -- works\n",
            "-- Detecting C compiler ABI info\n",
            "-- Detecting C compiler ABI info - done\n",
            "-- Detecting C compile features\n",
            "-- Detecting C compile features - done\n",
            "-- Check for working CXX compiler: /usr/bin/c++\n",
            "-- Check for working CXX compiler: /usr/bin/c++ -- works\n",
            "-- Detecting CXX compiler ABI info\n",
            "-- Detecting CXX compiler ABI info - done\n",
            "-- Detecting CXX compile features\n",
            "-- Detecting CXX compile features - done\n",
            "-- Looking for pthread.h\n",
            "-- Looking for pthread.h - found\n",
            "-- Looking for pthread_create\n",
            "-- Looking for pthread_create - not found\n",
            "-- Looking for pthread_create in pthreads\n",
            "-- Looking for pthread_create in pthreads - not found\n",
            "-- Looking for pthread_create in pthread\n",
            "-- Looking for pthread_create in pthread - found\n",
            "-- Found Threads: TRUE  \n",
            "-- Found CUDA: /usr/local/cuda (found suitable version \"10.1\", minimum required is \"6.5\") \n",
            "-- cuda found TRUE\n",
            "-- Building shared library with GPU support\n",
            "-- Configuring done\n",
            "-- Generating done\n",
            "-- Build files have been written to: /content/warp-ctc/warp-ctc/build\n",
            "[ 11%] \u001b[34m\u001b[1mBuilding NVCC (Device) object CMakeFiles/warpctc.dir/src/warpctc_generated_reduce.cu.o\u001b[0m\n",
            "[ 22%] \u001b[34m\u001b[1mBuilding NVCC (Device) object CMakeFiles/warpctc.dir/src/warpctc_generated_ctc_entrypoint.cu.o\u001b[0m\n",
            "\u001b[35m\u001b[1mScanning dependencies of target warpctc\u001b[0m\n",
            "[ 33%] \u001b[32m\u001b[1mLinking CXX shared library libwarpctc.so\u001b[0m\n",
            "[ 33%] Built target warpctc\n",
            "[ 44%] \u001b[34m\u001b[1mBuilding NVCC (Device) object CMakeFiles/test_gpu.dir/tests/test_gpu_generated_test_gpu.cu.o\u001b[0m\n",
            "\u001b[35m\u001b[1mScanning dependencies of target test_gpu\u001b[0m\n",
            "[ 55%] \u001b[32mBuilding CXX object CMakeFiles/test_gpu.dir/tests/random.cpp.o\u001b[0m\n",
            "[ 66%] \u001b[32m\u001b[1mLinking CXX executable test_gpu\u001b[0m\n",
            "[ 66%] Built target test_gpu\n",
            "\u001b[35m\u001b[1mScanning dependencies of target test_cpu\u001b[0m\n",
            "[ 77%] \u001b[32mBuilding CXX object CMakeFiles/test_cpu.dir/tests/test_cpu.cpp.o\u001b[0m\n",
            "[ 88%] \u001b[32mBuilding CXX object CMakeFiles/test_cpu.dir/tests/random.cpp.o\u001b[0m\n",
            "[100%] \u001b[32m\u001b[1mLinking CXX executable test_cpu\u001b[0m\n",
            "[100%] Built target test_cpu\n"
          ],
          "name": "stdout"
        }
      ]
    },
    {
      "cell_type": "code",
      "metadata": {
        "id": "6BZ1nlhDGeGc",
        "colab_type": "code",
        "colab": {
          "base_uri": "https://localhost:8080/",
          "height": 785
        },
        "outputId": "c9d2931d-10b7-48fe-de69-77ccbca67b66"
      },
      "source": [
        "!export CUDA_HOME=\"/usr/local/cuda\"\n",
        "%cd ../pytorch_binding/\n",
        "!python setup.py install"
      ],
      "execution_count": 6,
      "outputs": [
        {
          "output_type": "stream",
          "text": [
            "/content/warp-ctc/warp-ctc/pytorch_binding\n",
            "No CUDA runtime is found, using CUDA_HOME='/usr/local/cuda'\n",
            "Torch was not built with CUDA support, not building warp-ctc GPU extensions.\n",
            "running install\n",
            "running bdist_egg\n",
            "running egg_info\n",
            "writing warpctc_pytorch.egg-info/PKG-INFO\n",
            "writing dependency_links to warpctc_pytorch.egg-info/dependency_links.txt\n",
            "writing top-level names to warpctc_pytorch.egg-info/top_level.txt\n",
            "writing manifest file 'warpctc_pytorch.egg-info/SOURCES.txt'\n",
            "installing library code to build/bdist.linux-x86_64/egg\n",
            "running install_lib\n",
            "running build_py\n",
            "running build_ext\n",
            "building 'warpctc_pytorch._warp_ctc' extension\n",
            "x86_64-linux-gnu-gcc -pthread -DNDEBUG -g -fwrapv -O2 -Wall -g -fstack-protector-strong -Wformat -Werror=format-security -Wdate-time -D_FORTIFY_SOURCE=2 -fPIC -I/content/warp-ctc/warp-ctc/include -I/usr/local/lib/python3.6/dist-packages/torch/include -I/usr/local/lib/python3.6/dist-packages/torch/include/torch/csrc/api/include -I/usr/local/lib/python3.6/dist-packages/torch/include/TH -I/usr/local/lib/python3.6/dist-packages/torch/include/THC -I/usr/include/python3.6m -c src/binding.cpp -o build/temp.linux-x86_64-3.6/src/binding.o -std=c++11 -fPIC -DTORCH_API_INCLUDE_EXTENSION_H -DTORCH_EXTENSION_NAME=_warp_ctc -D_GLIBCXX_USE_CXX11_ABI=0\n",
            "x86_64-linux-gnu-g++ -pthread -shared -Wl,-O1 -Wl,-Bsymbolic-functions -Wl,-Bsymbolic-functions -Wl,-z,relro -Wl,-Bsymbolic-functions -Wl,-z,relro -g -fstack-protector-strong -Wformat -Werror=format-security -Wdate-time -D_FORTIFY_SOURCE=2 build/temp.linux-x86_64-3.6/src/binding.o -L/content/warp-ctc/warp-ctc/build -lwarpctc -o build/lib.linux-x86_64-3.6/warpctc_pytorch/_warp_ctc.cpython-36m-x86_64-linux-gnu.so -Wl,-rpath,/content/warp-ctc/warp-ctc/build\n",
            "creating build/bdist.linux-x86_64\n",
            "creating build/bdist.linux-x86_64/egg\n",
            "creating build/bdist.linux-x86_64/egg/warpctc_pytorch\n",
            "copying build/lib.linux-x86_64-3.6/warpctc_pytorch/__init__.py -> build/bdist.linux-x86_64/egg/warpctc_pytorch\n",
            "copying build/lib.linux-x86_64-3.6/warpctc_pytorch/_warp_ctc.cpython-36m-x86_64-linux-gnu.so -> build/bdist.linux-x86_64/egg/warpctc_pytorch\n",
            "byte-compiling build/bdist.linux-x86_64/egg/warpctc_pytorch/__init__.py to __init__.cpython-36.pyc\n",
            "creating stub loader for warpctc_pytorch/_warp_ctc.cpython-36m-x86_64-linux-gnu.so\n",
            "byte-compiling build/bdist.linux-x86_64/egg/warpctc_pytorch/_warp_ctc.py to _warp_ctc.cpython-36.pyc\n",
            "creating build/bdist.linux-x86_64/egg/EGG-INFO\n",
            "copying warpctc_pytorch.egg-info/PKG-INFO -> build/bdist.linux-x86_64/egg/EGG-INFO\n",
            "copying warpctc_pytorch.egg-info/SOURCES.txt -> build/bdist.linux-x86_64/egg/EGG-INFO\n",
            "copying warpctc_pytorch.egg-info/dependency_links.txt -> build/bdist.linux-x86_64/egg/EGG-INFO\n",
            "copying warpctc_pytorch.egg-info/top_level.txt -> build/bdist.linux-x86_64/egg/EGG-INFO\n",
            "writing build/bdist.linux-x86_64/egg/EGG-INFO/native_libs.txt\n",
            "zip_safe flag not set; analyzing archive contents...\n",
            "warpctc_pytorch.__pycache__._warp_ctc.cpython-36: module references __file__\n",
            "creating dist\n",
            "creating 'dist/warpctc_pytorch-0.1-py3.6-linux-x86_64.egg' and adding 'build/bdist.linux-x86_64/egg' to it\n",
            "removing 'build/bdist.linux-x86_64/egg' (and everything under it)\n",
            "Processing warpctc_pytorch-0.1-py3.6-linux-x86_64.egg\n",
            "creating /usr/local/lib/python3.6/dist-packages/warpctc_pytorch-0.1-py3.6-linux-x86_64.egg\n",
            "Extracting warpctc_pytorch-0.1-py3.6-linux-x86_64.egg to /usr/local/lib/python3.6/dist-packages\n",
            "Adding warpctc-pytorch 0.1 to easy-install.pth file\n",
            "\n",
            "Installed /usr/local/lib/python3.6/dist-packages/warpctc_pytorch-0.1-py3.6-linux-x86_64.egg\n",
            "Processing dependencies for warpctc-pytorch==0.1\n",
            "Finished processing dependencies for warpctc-pytorch==0.1\n"
          ],
          "name": "stdout"
        }
      ]
    },
    {
      "cell_type": "code",
      "metadata": {
        "id": "qDYcfYLE5PYZ",
        "colab_type": "code",
        "outputId": "b9dce893-f372-4ee3-ebc5-573e9c201442",
        "colab": {
          "base_uri": "https://localhost:8080/",
          "height": 578
        }
      },
      "source": [
        "%cd /content\n",
        "!git clone --recursive https://github.com/NVIDIA/apex.git\n",
        "%cd apex\n",
        "!pip install ."
      ],
      "execution_count": 9,
      "outputs": [
        {
          "output_type": "stream",
          "text": [
            "/content\n",
            "Cloning into 'apex'...\n",
            "remote: Enumerating objects: 59, done.\u001b[K\n",
            "remote: Counting objects: 100% (59/59), done.\u001b[K\n",
            "remote: Compressing objects: 100% (44/44), done.\u001b[K\n",
            "remote: Total 5894 (delta 31), reused 27 (delta 15), pack-reused 5835\u001b[K\n",
            "Receiving objects: 100% (5894/5894), 13.60 MiB | 26.48 MiB/s, done.\n",
            "Resolving deltas: 100% (3823/3823), done.\n",
            "Submodule 'apex/contrib/csrc/multihead_attn/cutlass' (https://github.com/NVIDIA/cutlass.git) registered for path 'apex/contrib/csrc/multihead_attn/cutlass'\n",
            "Cloning into '/content/apex/apex/contrib/csrc/multihead_attn/cutlass'...\n",
            "remote: Enumerating objects: 9260, done.        \n",
            "remote: Total 9260 (delta 0), reused 0 (delta 0), pack-reused 9260        \n",
            "Receiving objects: 100% (9260/9260), 12.48 MiB | 21.48 MiB/s, done.\n",
            "Resolving deltas: 100% (6433/6433), done.\n",
            "Submodule path 'apex/contrib/csrc/multihead_attn/cutlass': checked out 'ed2ed4d667ce95e1371bd62db32b6a114e774336'\n",
            "Submodule 'tools/external/googletest' (https://github.com/google/googletest.git) registered for path 'apex/contrib/csrc/multihead_attn/cutlass/tools/external/googletest'\n",
            "Cloning into '/content/apex/apex/contrib/csrc/multihead_attn/cutlass/tools/external/googletest'...\n",
            "remote: Enumerating objects: 3, done.        \n",
            "remote: Counting objects: 100% (3/3), done.        \n",
            "remote: Compressing objects: 100% (3/3), done.        \n",
            "remote: Total 19816 (delta 0), reused 3 (delta 0), pack-reused 19813        \n",
            "Receiving objects: 100% (19816/19816), 7.22 MiB | 21.50 MiB/s, done.\n",
            "Resolving deltas: 100% (14642/14642), done.\n",
            "Submodule path 'apex/contrib/csrc/multihead_attn/cutlass/tools/external/googletest': checked out '9077ec7efe5b652468ab051e93c67589d5cb8f85'\n",
            "/content/apex\n",
            "Processing /content/apex\n",
            "Building wheels for collected packages: apex\n",
            "  Building wheel for apex (setup.py) ... \u001b[?25l\u001b[?25hdone\n",
            "  Created wheel for apex: filename=apex-0.1-cp36-none-any.whl size=153030 sha256=2eec1571da76e4978ff03b59f8d097dae8e2ca1de102106ee18a228dcb806923\n",
            "  Stored in directory: /tmp/pip-ephem-wheel-cache-8lkfz42j/wheels/b1/3a/aa/d84906eaab780ae580c7a5686a33bf2820d8590ac3b60d5967\n",
            "Successfully built apex\n",
            "Installing collected packages: apex\n",
            "Successfully installed apex-0.1\n"
          ],
          "name": "stdout"
        }
      ]
    },
    {
      "cell_type": "code",
      "metadata": {
        "id": "_HDri0uF5PVD",
        "colab_type": "code",
        "colab": {
          "base_uri": "https://localhost:8080/",
          "height": 391
        },
        "outputId": "af89b09f-3ec7-44f0-ad47-ab01e53db0c8"
      },
      "source": [
        "!git clone --recursive https://github.com/parlance/ctcdecode.git\n",
        "%cd ctcdecode\n",
        "!pip install ."
      ],
      "execution_count": 15,
      "outputs": [
        {
          "output_type": "stream",
          "text": [
            "Cloning into 'ctcdecode'...\n",
            "remote: Enumerating objects: 1006, done.\u001b[K\n",
            "Receiving objects:   0% (1/1006)   \rReceiving objects:   1% (11/1006)   \rReceiving objects:   2% (21/1006)   \rReceiving objects:   3% (31/1006)   \rReceiving objects:   4% (41/1006)   \rReceiving objects:   5% (51/1006)   \rReceiving objects:   6% (61/1006)   \rReceiving objects:   7% (71/1006)   \rReceiving objects:   8% (81/1006)   \rReceiving objects:   9% (91/1006)   \rReceiving objects:  10% (101/1006)   \rReceiving objects:  11% (111/1006)   \rReceiving objects:  12% (121/1006)   \rReceiving objects:  13% (131/1006)   \rReceiving objects:  14% (141/1006)   \rReceiving objects:  15% (151/1006)   \rReceiving objects:  16% (161/1006)   \rReceiving objects:  17% (172/1006)   \rReceiving objects:  18% (182/1006)   \rReceiving objects:  19% (192/1006)   \rReceiving objects:  20% (202/1006)   \rReceiving objects:  21% (212/1006)   \rReceiving objects:  22% (222/1006)   \rReceiving objects:  23% (232/1006)   \rReceiving objects:  24% (242/1006)   \rReceiving objects:  25% (252/1006)   \rReceiving objects:  26% (262/1006)   \rReceiving objects:  27% (272/1006)   \rReceiving objects:  28% (282/1006)   \rReceiving objects:  29% (292/1006)   \rReceiving objects:  30% (302/1006)   \rReceiving objects:  31% (312/1006)   \rReceiving objects:  32% (322/1006)   \rReceiving objects:  33% (332/1006)   \rReceiving objects:  34% (343/1006)   \rReceiving objects:  35% (353/1006)   \rReceiving objects:  36% (363/1006)   \rReceiving objects:  37% (373/1006)   \rReceiving objects:  38% (383/1006)   \rReceiving objects:  39% (393/1006)   \rReceiving objects:  40% (403/1006)   \rReceiving objects:  41% (413/1006)   \rReceiving objects:  42% (423/1006)   \rReceiving objects:  43% (433/1006)   \rReceiving objects:  44% (443/1006)   \rReceiving objects:  45% (453/1006)   \rReceiving objects:  46% (463/1006)   \rReceiving objects:  47% (473/1006)   \rReceiving objects:  48% (483/1006)   \rReceiving objects:  49% (493/1006)   \rReceiving objects:  50% (503/1006)   \rReceiving objects:  51% (514/1006)   \rReceiving objects:  52% (524/1006)   \rReceiving objects:  53% (534/1006)   \rReceiving objects:  54% (544/1006)   \rReceiving objects:  55% (554/1006)   \rReceiving objects:  56% (564/1006)   \rReceiving objects:  57% (574/1006)   \rReceiving objects:  58% (584/1006)   \rReceiving objects:  59% (594/1006)   \rReceiving objects:  60% (604/1006)   \rReceiving objects:  61% (614/1006)   \rReceiving objects:  62% (624/1006)   \rReceiving objects:  63% (634/1006)   \rReceiving objects:  64% (644/1006)   \rReceiving objects:  65% (654/1006)   \rReceiving objects:  66% (664/1006)   \rReceiving objects:  67% (675/1006)   \rReceiving objects:  68% (685/1006)   \rReceiving objects:  69% (695/1006)   \rReceiving objects:  70% (705/1006)   \rReceiving objects:  71% (715/1006)   \rReceiving objects:  72% (725/1006)   \rremote: Total 1006 (delta 0), reused 0 (delta 0), pack-reused 1006\u001b[K\n",
            "Receiving objects:  73% (735/1006)   \rReceiving objects:  74% (745/1006)   \rReceiving objects:  75% (755/1006)   \rReceiving objects:  76% (765/1006)   \rReceiving objects:  77% (775/1006)   \rReceiving objects:  78% (785/1006)   \rReceiving objects:  79% (795/1006)   \rReceiving objects:  80% (805/1006)   \rReceiving objects:  81% (815/1006)   \rReceiving objects:  82% (825/1006)   \rReceiving objects:  83% (835/1006)   \rReceiving objects:  84% (846/1006)   \rReceiving objects:  85% (856/1006)   \rReceiving objects:  86% (866/1006)   \rReceiving objects:  87% (876/1006)   \rReceiving objects:  88% (886/1006)   \rReceiving objects:  89% (896/1006)   \rReceiving objects:  90% (906/1006)   \rReceiving objects:  91% (916/1006)   \rReceiving objects:  92% (926/1006)   \rReceiving objects:  93% (936/1006)   \rReceiving objects:  94% (946/1006)   \rReceiving objects:  95% (956/1006)   \rReceiving objects:  96% (966/1006)   \rReceiving objects:  97% (976/1006)   \rReceiving objects:  98% (986/1006)   \rReceiving objects:  99% (996/1006)   \rReceiving objects: 100% (1006/1006)   \rReceiving objects: 100% (1006/1006), 728.22 KiB | 11.03 MiB/s, done.\n",
            "Resolving deltas:   0% (0/500)   \rResolving deltas:   1% (5/500)   \rResolving deltas:   2% (11/500)   \rResolving deltas:   3% (18/500)   \rResolving deltas:   5% (25/500)   \rResolving deltas:   7% (35/500)   \rResolving deltas:   9% (48/500)   \rResolving deltas:  12% (61/500)   \rResolving deltas:  13% (65/500)   \rResolving deltas:  14% (70/500)   \rResolving deltas:  15% (75/500)   \rResolving deltas:  17% (88/500)   \rResolving deltas:  19% (98/500)   \rResolving deltas:  20% (102/500)   \rResolving deltas:  21% (108/500)   \rResolving deltas:  22% (111/500)   \rResolving deltas:  23% (119/500)   \rResolving deltas:  25% (125/500)   \rResolving deltas:  30% (154/500)   \rResolving deltas:  32% (164/500)   \rResolving deltas:  38% (193/500)   \rResolving deltas:  41% (206/500)   \rResolving deltas:  45% (225/500)   \rResolving deltas:  48% (240/500)   \rResolving deltas:  50% (254/500)   \rResolving deltas:  51% (259/500)   \rResolving deltas:  56% (281/500)   \rResolving deltas:  57% (286/500)   \rResolving deltas:  58% (290/500)   \rResolving deltas:  59% (295/500)   \rResolving deltas:  60% (300/500)   \rResolving deltas:  61% (305/500)   \rResolving deltas:  62% (311/500)   \rResolving deltas:  63% (315/500)   \rResolving deltas:  67% (337/500)   \rResolving deltas:  69% (349/500)   \rResolving deltas:  70% (350/500)   \rResolving deltas:  71% (356/500)   \rResolving deltas:  73% (367/500)   \rResolving deltas:  74% (373/500)   \rResolving deltas:  75% (378/500)   \rResolving deltas:  79% (397/500)   \rResolving deltas:  84% (423/500)   \rResolving deltas:  86% (431/500)   \rResolving deltas:  87% (435/500)   \rResolving deltas:  93% (465/500)   \rResolving deltas:  94% (471/500)   \rResolving deltas:  95% (478/500)   \rResolving deltas:  96% (481/500)   \rResolving deltas:  98% (491/500)   \rResolving deltas:  99% (496/500)   \rResolving deltas: 100% (500/500)   \rResolving deltas: 100% (500/500), done.\n",
            "Submodule 'third_party/ThreadPool' (https://github.com/progschj/ThreadPool.git) registered for path 'third_party/ThreadPool'\n",
            "Submodule 'third_party/kenlm' (https://github.com/kpu/kenlm.git) registered for path 'third_party/kenlm'\n",
            "Cloning into '/content/ctcdecode/third_party/ThreadPool'...\n",
            "remote: Enumerating objects: 82, done.        \n",
            "remote: Total 82 (delta 0), reused 0 (delta 0), pack-reused 82        \n",
            "Cloning into '/content/ctcdecode/third_party/kenlm'...\n",
            "remote: Enumerating objects: 43, done.        \n",
            "remote: Counting objects: 100% (43/43), done.        \n",
            "remote: Compressing objects: 100% (35/35), done.        \n",
            "remote: Total 13367 (delta 19), reused 21 (delta 8), pack-reused 13324        \n",
            "Receiving objects: 100% (13367/13367), 5.35 MiB | 19.50 MiB/s, done.\n",
            "Resolving deltas: 100% (7664/7664), done.\n",
            "Submodule path 'third_party/ThreadPool': checked out '9a42ec1329f259a5f4881a291db1dcb8f2ad9040'\n",
            "Submodule path 'third_party/kenlm': checked out '35835f1ac4884126458ac89f9bf6dd9ccad561e0'\n",
            "/content/ctcdecode\n",
            "Processing /content/ctcdecode\n",
            "\u001b[31mERROR: Command errored out with exit status 1: python setup.py egg_info Check the logs for full command output.\u001b[0m\n"
          ],
          "name": "stdout"
        }
      ]
    },
    {
      "cell_type": "code",
      "metadata": {
        "id": "Zd2P8BXT5PRF",
        "colab_type": "code",
        "colab": {
          "base_uri": "https://localhost:8080/",
          "height": 969
        },
        "outputId": "5d38169b-d9d3-41ef-af29-18df8096dc17"
      },
      "source": [
        "%cd deepspeech.pytorch/\n",
        "!pip install -r requirements.txt"
      ],
      "execution_count": 21,
      "outputs": [
        {
          "output_type": "stream",
          "text": [
            "/content/deepspeech.pytorch\n",
            "Collecting python-levenshtein\n",
            "\u001b[?25l  Downloading https://files.pythonhosted.org/packages/42/a9/d1785c85ebf9b7dfacd08938dd028209c34a0ea3b1bcdb895208bd40a67d/python-Levenshtein-0.12.0.tar.gz (48kB)\n",
            "\u001b[K     |████████████████████████████████| 51kB 1.6MB/s \n",
            "\u001b[?25hRequirement already satisfied: torch in /usr/local/lib/python3.6/dist-packages (from -r requirements.txt (line 2)) (1.4.0)\n",
            "Collecting visdom\n",
            "\u001b[?25l  Downloading https://files.pythonhosted.org/packages/c9/75/e078f5a2e1df7e0d3044749089fc2823e62d029cc027ed8ae5d71fafcbdc/visdom-0.1.8.9.tar.gz (676kB)\n",
            "\u001b[K     |████████████████████████████████| 686kB 7.1MB/s \n",
            "\u001b[?25hCollecting wget\n",
            "  Downloading https://files.pythonhosted.org/packages/47/6a/62e288da7bcda82b935ff0c6cfe542970f04e29c756b0e147251b2fb251f/wget-3.2.zip\n",
            "Requirement already satisfied: librosa in /usr/local/lib/python3.6/dist-packages (from -r requirements.txt (line 5)) (0.6.3)\n",
            "Requirement already satisfied: tqdm in /usr/local/lib/python3.6/dist-packages (from -r requirements.txt (line 6)) (4.28.1)\n",
            "Requirement already satisfied: setuptools in /usr/local/lib/python3.6/dist-packages (from python-levenshtein->-r requirements.txt (line 1)) (45.1.0)\n",
            "Requirement already satisfied: numpy>=1.8 in /usr/local/lib/python3.6/dist-packages (from visdom->-r requirements.txt (line 3)) (1.17.5)\n",
            "Requirement already satisfied: scipy in /usr/local/lib/python3.6/dist-packages (from visdom->-r requirements.txt (line 3)) (1.4.1)\n",
            "Requirement already satisfied: requests in /usr/local/lib/python3.6/dist-packages (from visdom->-r requirements.txt (line 3)) (2.21.0)\n",
            "Requirement already satisfied: tornado in /usr/local/lib/python3.6/dist-packages (from visdom->-r requirements.txt (line 3)) (4.5.3)\n",
            "Requirement already satisfied: pyzmq in /usr/local/lib/python3.6/dist-packages (from visdom->-r requirements.txt (line 3)) (17.0.0)\n",
            "Requirement already satisfied: six in /usr/local/lib/python3.6/dist-packages (from visdom->-r requirements.txt (line 3)) (1.12.0)\n",
            "Collecting jsonpatch\n",
            "  Downloading https://files.pythonhosted.org/packages/82/53/73ca86f2a680c705dcd1708be4887c559dfe9ed250486dd3ccd8821b8ccb/jsonpatch-1.25-py2.py3-none-any.whl\n",
            "Collecting torchfile\n",
            "  Downloading https://files.pythonhosted.org/packages/91/af/5b305f86f2d218091af657ddb53f984ecbd9518ca9fe8ef4103a007252c9/torchfile-0.1.0.tar.gz\n",
            "Collecting websocket-client\n",
            "\u001b[?25l  Downloading https://files.pythonhosted.org/packages/4c/5f/f61b420143ed1c8dc69f9eaec5ff1ac36109d52c80de49d66e0c36c3dfdf/websocket_client-0.57.0-py2.py3-none-any.whl (200kB)\n",
            "\u001b[K     |████████████████████████████████| 204kB 25.7MB/s \n",
            "\u001b[?25hRequirement already satisfied: pillow in /usr/local/lib/python3.6/dist-packages (from visdom->-r requirements.txt (line 3)) (6.2.2)\n",
            "Requirement already satisfied: scikit-learn!=0.19.0,>=0.14.0 in /usr/local/lib/python3.6/dist-packages (from librosa->-r requirements.txt (line 5)) (0.22.1)\n",
            "Requirement already satisfied: resampy>=0.2.0 in /usr/local/lib/python3.6/dist-packages (from librosa->-r requirements.txt (line 5)) (0.2.2)\n",
            "Requirement already satisfied: numba>=0.38.0 in /usr/local/lib/python3.6/dist-packages (from librosa->-r requirements.txt (line 5)) (0.47.0)\n",
            "Requirement already satisfied: joblib>=0.12 in /usr/local/lib/python3.6/dist-packages (from librosa->-r requirements.txt (line 5)) (0.14.1)\n",
            "Requirement already satisfied: audioread>=2.0.0 in /usr/local/lib/python3.6/dist-packages (from librosa->-r requirements.txt (line 5)) (2.1.8)\n",
            "Requirement already satisfied: decorator>=3.0.0 in /usr/local/lib/python3.6/dist-packages (from librosa->-r requirements.txt (line 5)) (4.4.1)\n",
            "Requirement already satisfied: certifi>=2017.4.17 in /usr/local/lib/python3.6/dist-packages (from requests->visdom->-r requirements.txt (line 3)) (2019.11.28)\n",
            "Requirement already satisfied: chardet<3.1.0,>=3.0.2 in /usr/local/lib/python3.6/dist-packages (from requests->visdom->-r requirements.txt (line 3)) (3.0.4)\n",
            "Requirement already satisfied: idna<2.9,>=2.5 in /usr/local/lib/python3.6/dist-packages (from requests->visdom->-r requirements.txt (line 3)) (2.8)\n",
            "Requirement already satisfied: urllib3<1.25,>=1.21.1 in /usr/local/lib/python3.6/dist-packages (from requests->visdom->-r requirements.txt (line 3)) (1.24.3)\n",
            "Collecting jsonpointer>=1.9\n",
            "  Downloading https://files.pythonhosted.org/packages/18/b0/a80d29577c08eea401659254dfaed87f1af45272899e1812d7e01b679bc5/jsonpointer-2.0-py2.py3-none-any.whl\n",
            "Requirement already satisfied: llvmlite>=0.31.0dev0 in /usr/local/lib/python3.6/dist-packages (from numba>=0.38.0->librosa->-r requirements.txt (line 5)) (0.31.0)\n",
            "Building wheels for collected packages: python-levenshtein, visdom, wget, torchfile\n",
            "  Building wheel for python-levenshtein (setup.py) ... \u001b[?25l\u001b[?25hdone\n",
            "  Created wheel for python-levenshtein: filename=python_Levenshtein-0.12.0-cp36-cp36m-linux_x86_64.whl size=144664 sha256=d3a558b63812ad1fa2c325441ee218e215516ae0ad6a39c002cf766ea0b5128b\n",
            "  Stored in directory: /root/.cache/pip/wheels/de/c2/93/660fd5f7559049268ad2dc6d81c4e39e9e36518766eaf7e342\n",
            "  Building wheel for visdom (setup.py) ... \u001b[?25l\u001b[?25hdone\n",
            "  Created wheel for visdom: filename=visdom-0.1.8.9-cp36-none-any.whl size=655250 sha256=1a69642446762938ad2b35b313e8cabc8b0d5070377770ed3bf608bb951e3e87\n",
            "  Stored in directory: /root/.cache/pip/wheels/70/19/a7/6d589ed967f4dfefd33bc166d081257bd4ed0cb618dccfd62a\n",
            "  Building wheel for wget (setup.py) ... \u001b[?25l\u001b[?25hdone\n",
            "  Created wheel for wget: filename=wget-3.2-cp36-none-any.whl size=9682 sha256=c5412ef74935a2e3e234325e0d1e23e1567436c1a111e12fbb5f2756abfb0220\n",
            "  Stored in directory: /root/.cache/pip/wheels/40/15/30/7d8f7cea2902b4db79e3fea550d7d7b85ecb27ef992b618f3f\n",
            "  Building wheel for torchfile (setup.py) ... \u001b[?25l\u001b[?25hdone\n",
            "  Created wheel for torchfile: filename=torchfile-0.1.0-cp36-none-any.whl size=5712 sha256=ff3dc1ff1e580fd79963dc8c70a5e30af87130e1c9f2d0bdbdd551bb74012b38\n",
            "  Stored in directory: /root/.cache/pip/wheels/b1/c3/d6/9a1cc8f3a99a0fc1124cae20153f36af59a6e683daca0a0814\n",
            "Successfully built python-levenshtein visdom wget torchfile\n",
            "Installing collected packages: python-levenshtein, jsonpointer, jsonpatch, torchfile, websocket-client, visdom, wget\n",
            "Successfully installed jsonpatch-1.25 jsonpointer-2.0 python-levenshtein-0.12.0 torchfile-0.1.0 visdom-0.1.8.9 websocket-client-0.57.0 wget-3.2\n"
          ],
          "name": "stdout"
        }
      ]
    },
    {
      "cell_type": "code",
      "metadata": {
        "id": "GGmagtd95PEG",
        "colab_type": "code",
        "colab": {}
      },
      "source": [
        ""
      ],
      "execution_count": 0,
      "outputs": []
    },
    {
      "cell_type": "code",
      "metadata": {
        "id": "B26oMzfS5O0t",
        "colab_type": "code",
        "colab": {}
      },
      "source": [
        ""
      ],
      "execution_count": 0,
      "outputs": []
    },
    {
      "cell_type": "code",
      "metadata": {
        "id": "p1r7SKkN5Oj6",
        "colab_type": "code",
        "colab": {}
      },
      "source": [
        ""
      ],
      "execution_count": 0,
      "outputs": []
    }
  ]
}